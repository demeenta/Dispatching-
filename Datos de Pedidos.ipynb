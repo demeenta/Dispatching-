{
 "cells": [
  {
   "cell_type": "markdown",
   "metadata": {},
   "source": [
    "# Ejemplo de diccionario para listado de pedidos"
   ]
  },
  {
   "cell_type": "markdown",
   "metadata": {},
   "source": [
    "Se puede ingresar más de un pedido a la vez, si es que existe una carga masiva de ellos. Por lo que un JSON (por ejemplo) debería conincidir con el siguiente formato en Python."
   ]
  },
  {
   "cell_type": "code",
   "execution_count": 2,
   "metadata": {},
   "outputs": [],
   "source": [
    "listapedidos = [ {\"pedido1\" : \n",
    "                      [{\"category1\": \n",
    "                                [ {\"producto43\": 2}, {\"producto78\":1}, {\"producto78\":5} ]\n",
    "                       },\n",
    "                       {\"category5\":\n",
    "                                [ {\"producto121\": 1}, {\"producto138\":6} ]\n",
    "                       }]\n",
    "                 },\n",
    "                 {\"pedido2\" :\n",
    "                       [{\"category2\": \n",
    "                                [ {\"producto20\": 2}, {\"producto21\":1}, {\"producto25\":5} ]\n",
    "                       },\n",
    "                       {\"category3\":\n",
    "                                [ {\"producto70\": 1}, {\"producto87\":6} ]\n",
    "                       }]\n",
    "                 } ]\n",
    "                "
   ]
  },
  {
   "cell_type": "markdown",
   "metadata": {},
   "source": [
    "Si el ingreso de pedidos es individual, _listapedidos_ o el array JSON tendría sólo un elemento."
   ]
  },
  {
   "cell_type": "code",
   "execution_count": 4,
   "metadata": {},
   "outputs": [],
   "source": [
    "pedido = {\"pedido1\" : \n",
    "                      [{\"category1\": \n",
    "                                [ {\"producto43\": 2}, {\"producto78\":1}, {\"producto78\":5} ]\n",
    "                       },\n",
    "                       {\"category5\":\n",
    "                                [ {\"producto121\": 1}, {\"producto138\":6} ]\n",
    "                       }]\n",
    "                 }"
   ]
  },
  {
   "cell_type": "code",
   "execution_count": 7,
   "metadata": {},
   "outputs": [
    {
     "data": {
      "text/plain": [
       "2"
      ]
     },
     "execution_count": 7,
     "metadata": {},
     "output_type": "execute_result"
    }
   ],
   "source": [
    "len(listapedidos)"
   ]
  },
  {
   "cell_type": "code",
   "execution_count": 8,
   "metadata": {},
   "outputs": [
    {
     "data": {
      "text/plain": [
       "1"
      ]
     },
     "execution_count": 8,
     "metadata": {},
     "output_type": "execute_result"
    }
   ],
   "source": [
    "len(pedido)"
   ]
  },
  {
   "cell_type": "code",
   "execution_count": null,
   "metadata": {},
   "outputs": [],
   "source": []
  }
 ],
 "metadata": {
  "kernelspec": {
   "display_name": "Python 3",
   "language": "python",
   "name": "python3"
  },
  "language_info": {
   "codemirror_mode": {
    "name": "ipython",
    "version": 3
   },
   "file_extension": ".py",
   "mimetype": "text/x-python",
   "name": "python",
   "nbconvert_exporter": "python",
   "pygments_lexer": "ipython3",
   "version": "3.7.0"
  }
 },
 "nbformat": 4,
 "nbformat_minor": 2
}
