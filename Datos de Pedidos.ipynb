{
 "cells": [
  {
   "cell_type": "markdown",
   "metadata": {},
   "source": [
    "# Ejemplo de diccionario para listado de pedidos"
   ]
  },
  {
   "cell_type": "markdown",
   "metadata": {},
   "source": [
    "Se puede ingresar más de un pedido a la vez, si es que existe una carga masiva de ellos. Por lo que un JSON (por ejemplo) debería conincidir con el siguiente formato en Python."
   ]
  },
  {
   "cell_type": "code",
   "execution_count": 2,
   "metadata": {},
   "outputs": [],
   "source": [
    "listapedidos = [ {\"pedido1\" : \n",
    "                      [{\"category1\": \n",
    "                                [ {\"producto43\": 2}, {\"producto78\":1}, {\"producto78\":5} ]\n",
    "                       },\n",
    "                       {\"category5\":\n",
    "                                [ {\"producto121\": 1}, {\"producto138\":6} ]\n",
    "                       }]\n",
    "                 },\n",
    "                 {\"pedido2\" :\n",
    "                       [{\"category2\": \n",
    "                                [ {\"producto20\": 2}, {\"producto21\":1}, {\"producto25\":5} ]\n",
    "                       },\n",
    "                       {\"category3\":\n",
    "                                [ {\"producto70\": 1}, {\"producto87\":6} ]\n",
    "                       }]\n",
    "                 } ]\n",
    "                "
   ]
  },
  {
   "cell_type": "markdown",
   "metadata": {},
   "source": [
    "Si el ingreso de pedidos es individual, _listapedidos_ o el array JSON tendría sólo un elemento."
   ]
  },
  {
   "cell_type": "code",
   "execution_count": 10,
   "metadata": {},
   "outputs": [],
   "source": [
    "pedido = [{\"category1\": \n",
    "                [ {\"producto43\": 2}, {\"producto78\":1}, {\"producto78\":5} ]\n",
    "          },\n",
    "          {\"category5\":\n",
    "                [ {\"producto121\": 1}, {\"producto138\":6} ]\n",
    "         }]\n",
    "                "
   ]
  },
  {
   "cell_type": "code",
   "execution_count": 7,
   "metadata": {},
   "outputs": [
    {
     "data": {
      "text/plain": [
       "2"
      ]
     },
     "execution_count": 7,
     "metadata": {},
     "output_type": "execute_result"
    }
   ],
   "source": [
    "len(listapedidos)"
   ]
  },
  {
   "cell_type": "code",
   "execution_count": 8,
   "metadata": {},
   "outputs": [
    {
     "data": {
      "text/plain": [
       "1"
      ]
     },
     "execution_count": 8,
     "metadata": {},
     "output_type": "execute_result"
    }
   ],
   "source": [
    "len(pedido)"
   ]
  },
  {
   "cell_type": "markdown",
   "metadata": {},
   "source": [
    "Ejemplo de contabilidad de productos, para tener al menos un orden de prioridad, con respecto a la canasta, y lo que demoraría en un supermercado."
   ]
  },
  {
   "cell_type": "code",
   "execution_count": 55,
   "metadata": {},
   "outputs": [],
   "source": [
    "n_cat = len(pedido)\n",
    "n_tipos_dif = 0\n",
    "\n",
    "for cat in pedido:\n",
    "    for producto in cat.values():\n",
    "        n_tipos_dif += len(producto)"
   ]
  },
  {
   "cell_type": "code",
   "execution_count": 56,
   "metadata": {},
   "outputs": [
    {
     "data": {
      "text/plain": [
       "2"
      ]
     },
     "execution_count": 56,
     "metadata": {},
     "output_type": "execute_result"
    }
   ],
   "source": [
    "n_cat"
   ]
  },
  {
   "cell_type": "code",
   "execution_count": 57,
   "metadata": {},
   "outputs": [
    {
     "data": {
      "text/plain": [
       "5"
      ]
     },
     "execution_count": 57,
     "metadata": {},
     "output_type": "execute_result"
    }
   ],
   "source": [
    "n_tipos_dif "
   ]
  },
  {
   "cell_type": "markdown",
   "metadata": {},
   "source": [
    "Ejemplo de calculo de un posible fitness:"
   ]
  },
  {
   "cell_type": "code",
   "execution_count": 60,
   "metadata": {},
   "outputs": [],
   "source": [
    "total_cat = 10\n",
    "total_prod = 300\n",
    "fitness = n_cat/total_cat + n_tipos_dif/total_prod"
   ]
  },
  {
   "cell_type": "code",
   "execution_count": 61,
   "metadata": {},
   "outputs": [
    {
     "data": {
      "text/plain": [
       "0.21666666666666667"
      ]
     },
     "execution_count": 61,
     "metadata": {},
     "output_type": "execute_result"
    }
   ],
   "source": [
    "fitness"
   ]
  },
  {
   "cell_type": "code",
   "execution_count": 62,
   "metadata": {},
   "outputs": [],
   "source": [
    "fitness = 10/total_cat + 300/total_prod"
   ]
  },
  {
   "cell_type": "code",
   "execution_count": 63,
   "metadata": {},
   "outputs": [
    {
     "data": {
      "text/plain": [
       "2.0"
      ]
     },
     "execution_count": 63,
     "metadata": {},
     "output_type": "execute_result"
    }
   ],
   "source": [
    "fitness"
   ]
  },
  {
   "cell_type": "code",
   "execution_count": 64,
   "metadata": {},
   "outputs": [],
   "source": [
    "fitness = 9/total_cat + 250/total_prod"
   ]
  },
  {
   "cell_type": "code",
   "execution_count": 65,
   "metadata": {},
   "outputs": [
    {
     "data": {
      "text/plain": [
       "1.7333333333333334"
      ]
     },
     "execution_count": 65,
     "metadata": {},
     "output_type": "execute_result"
    }
   ],
   "source": [
    "fitness"
   ]
  },
  {
   "cell_type": "markdown",
   "metadata": {},
   "source": [
    "Como  algunos pedidos tienen mayor cantidad de productos, se les podría asignar al tiempo que demorará un estimado de tiempo que podría demorar el shoper en el supermercado. Comprar 50 tipos de productos, donde son todos de diversas categorías, no es lo mismo que comprar sólo 1 producto.  Aunque la diferencia de tiempo sea mínima, puede marcar la diferencia entre pedidos que tienen la misma hora de entraga, misma distancia."
   ]
  }
 ],
 "metadata": {
  "kernelspec": {
   "display_name": "Python 3",
   "language": "python",
   "name": "python3"
  },
  "language_info": {
   "codemirror_mode": {
    "name": "ipython",
    "version": 3
   },
   "file_extension": ".py",
   "mimetype": "text/x-python",
   "name": "python",
   "nbconvert_exporter": "python",
   "pygments_lexer": "ipython3",
   "version": "3.7.0"
  }
 },
 "nbformat": 4,
 "nbformat_minor": 2
}
